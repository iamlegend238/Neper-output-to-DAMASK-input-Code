{
 "cells": [
  {
   "cell_type": "code",
   "execution_count": 5,
   "id": "f6bc4e7d-4a00-4532-a4d0-e48024b7fadf",
   "metadata": {},
   "outputs": [
    {
     "name": "stdin",
     "output_type": "stream",
     "text": [
      "\n",
      "Please enter the first line from which we have to read :\n",
      " 24\n",
      "\n",
      "Please enter the last line until which we have to read :\n",
      " 34\n"
     ]
    }
   ],
   "source": [
    "from numpy import*\n",
    "import numpy as np\n",
    "import matplotlib.pyplot as plt\n",
    "\n",
    "line1 = int(input(\"\\nPlease enter the first line from which we have to read :\\n\"))\n",
    "line2 = int(input(\"\\nPlease enter the last line until which we have to read :\\n\"))\n",
    "\n",
    "n_ori = line2 - line1\n",
    "\n",
    "ori = [[0]*3]*n_ori\n",
    "ori = np.array(ori, dtype = float)\n",
    "\n",
    "with open(r\"C:\\Users\\anand\\OneDrive\\Desktop\\DAMASK\\DAMASK_10.tess\", 'r') as fp:\n",
    "    x = fp.readlines()[line1:line2]\n",
    "\n",
    "    for i in range(n_ori):\n",
    "        li = list(x[i].split(\"  \"))\n",
    "        #print(li)\n",
    "        for ele in li:\n",
    "            if ele == '':\n",
    "                li.remove(ele)\n",
    "        for j in range (3):\n",
    "            li[j] = float(li[j])\n",
    "            ori[i][j] = li[j]\n",
    "            #print(ori[i][j], end = \" \")\n",
    "        #print(\"\\n\")"
   ]
  },
  {
   "cell_type": "code",
   "execution_count": 6,
   "id": "0dd84184-6a46-4d2a-847f-e0d5e0a4ce51",
   "metadata": {},
   "outputs": [
    {
     "name": "stdin",
     "output_type": "stream",
     "text": [
      "\n",
      "Please enter the first line from which we have to read :\n",
      " 8\n",
      "\n",
      "Please enter the last line until which we have to read :\n",
      " 129\n"
     ]
    }
   ],
   "source": [
    "line1 = int(input(\"\\nPlease enter the first line from which we have to read :\\n\"))\n",
    "line2 = int(input(\"\\nPlease enter the last line until which we have to read :\\n\"))\n",
    "\n",
    "n_coo = line2 - line1\n",
    "\n",
    "coo = [[0]*4]*n_coo\n",
    "coo = np.array(coo, dtype = float)\n",
    "\n",
    "with open(r\"C:\\Users\\anand\\OneDrive\\Desktop\\DAMASK\\DAMASK_10.msh\", 'r') as fp:\n",
    "    x = fp.readlines()[line1:line2]\n",
    "    for i in range(n_coo):\n",
    "        li = list(x[i].split(\" \"))\n",
    "        #print(li)\n",
    "        for j in range (4):\n",
    "            li[j] = float(li[j])\n",
    "            coo[i][j] = li[j]\n",
    "            #print(coo[i][j], end = \" \")\n",
    "        #print(\"\\n\")"
   ]
  },
  {
   "cell_type": "code",
   "execution_count": 7,
   "id": "b125db95-941b-41b9-b42c-8fbe3b6e68fc",
   "metadata": {},
   "outputs": [
    {
     "name": "stdin",
     "output_type": "stream",
     "text": [
      "\n",
      "Please enter the first line from which we have to read :\n",
      " 132\n",
      "\n",
      "Please enter the last line until which we have to read :\n",
      " 232\n"
     ]
    }
   ],
   "source": [
    "line1 = int(input(\"\\nPlease enter the first line from which we have to read :\\n\"))\n",
    "line2 = int(input(\"\\nPlease enter the last line until which we have to read :\\n\"))\n",
    "\n",
    "n_ele = line2 - line1\n",
    "\n",
    "ele = [[0]*10]*n_ele\n",
    "ele = np.array(ele, dtype = int)\n",
    "\n",
    "with open(r\"C:\\Users\\anand\\OneDrive\\Desktop\\DAMASK\\DAMASK_10.msh\", 'r') as fp:\n",
    "    x = fp.readlines()[line1:line2]\n",
    "    for i in range(n_ele):\n",
    "        li = list(x[i].split(\" \"))\n",
    "        #print(li)\n",
    "        for j in range (10):\n",
    "            li[j] = int(li[j])\n",
    "            ele[i][j] = li[j]\n",
    "            #print(ele[i][j], end = \" \")\n",
    "        #print(\"\\n\")"
   ]
  },
  {
   "cell_type": "code",
   "execution_count": 8,
   "id": "a993fdbe-6671-4da6-b1e9-26779f444764",
   "metadata": {},
   "outputs": [],
   "source": [
    "y_coo = [[0]*1]*10\n",
    "y_coo = np.array(y_coo, dtype = float)\n",
    "\n",
    "x_coo = [[0]*1]*10\n",
    "x_coo = np.array(x_coo, dtype = float)\n",
    "\n",
    "file_w = open(r\"C:\\Users\\anand\\OneDrive\\Desktop\\DAMASK_input_coo\", \"w\")\n",
    "\n",
    "for j in range (4):\n",
    "    for k in range (n_coo):\n",
    "        if ele[0][6+j] == int(coo[k][0]):\n",
    "            x_coo[j] = coo[k][1]\n",
    "            y_coo[j] = coo[k][2]\n",
    "        x1 = (x_coo[1] - x_coo[0])/2\n",
    "        y1 = (y_coo[3] - y_coo[0])/2\n",
    "\n",
    "testing = n_ele**(1/2)\n",
    "testing = int(testing)\n",
    "\n",
    "for i in range (testing):\n",
    "    x_initial = x1\n",
    "    for j in range (testing):\n",
    "        file_w.write(\"%f \" % (x_initial))\n",
    "        file_w.write(\"%f\" % (y1))\n",
    "        file_w.write(\"\\n\")\n",
    "        x_initial = x_initial + (1/testing)\n",
    "    y1 = y1 + (1/testing)\n",
    "\n",
    "file_w.close()\n",
    "\n",
    "file_w = open(r\"C:\\Users\\anand\\OneDrive\\Desktop\\DAMASK_input_ori\", \"w\")\n",
    "\n",
    "for i in range (n_ele):\n",
    "    for l in range (n_ori):\n",
    "        if ((l+1) == (ele[i][3] and ele[i][4])):\n",
    "            phi1 = ori[l][0]\n",
    "            phi = ori[l][1]\n",
    "            phi2 = ori[l][2]\n",
    "            file_w.write(\"%f \" % (phi1))\n",
    "            file_w.write(\"%f \" % (phi))\n",
    "            file_w.write(\"%f\" % (phi2))\n",
    "            file_w.write(\"\\n\")\n",
    "\n",
    "file_w.close()\n",
    "\n",
    "file_r1 = open(r\"C:\\Users\\anand\\OneDrive\\Desktop\\DAMASK_input_coo\", \"r\")\n",
    "file_r2 = open(r\"C:\\Users\\anand\\OneDrive\\Desktop\\DAMASK_input_ori\", \"r\")\n",
    "file_w = open(r\"C:\\Users\\anand\\OneDrive\\Desktop\\DAMASK_input\", \"w\")\n",
    "\n",
    "file_contents1 = file_r1.read()\n",
    "contents_split1 = file_contents1.splitlines()\n",
    "file_contents2 = file_r2.read()\n",
    "contents_split2 = file_contents2.splitlines()\n",
    "\n",
    "for i in range(n_ele):\n",
    "    li1 = list(contents_split1[i].split(\" \"))\n",
    "    li2 = list(contents_split2[i].split(\" \"))\n",
    "    file_w.write(\"%s \" % (li1[0]))\n",
    "    file_w.write(\"%s \" % (li1[1]))\n",
    "    file_w.write(\"%d \" % (0.05))\n",
    "    file_w.write(\"%s \" % (li2[0]))\n",
    "    file_w.write(\"%s \" % (li2[1]))\n",
    "    file_w.write(\"%s\" % (li2[2]))\n",
    "    file_w.write(\"\\n\")\n",
    "\n",
    "file_w.close()\n",
    "file_r1.close()\n",
    "file_r2.close()"
   ]
  }
 ],
 "metadata": {
  "kernelspec": {
   "display_name": "Python 3 (ipykernel)",
   "language": "python",
   "name": "python3"
  },
  "language_info": {
   "codemirror_mode": {
    "name": "ipython",
    "version": 3
   },
   "file_extension": ".py",
   "mimetype": "text/x-python",
   "name": "python",
   "nbconvert_exporter": "python",
   "pygments_lexer": "ipython3",
   "version": "3.9.7"
  }
 },
 "nbformat": 4,
 "nbformat_minor": 5
}
